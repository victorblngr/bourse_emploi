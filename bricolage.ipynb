{
 "cells": [
  {
   "cell_type": "code",
   "execution_count": 17,
   "id": "d3fa0d46",
   "metadata": {},
   "outputs": [],
   "source": [
    "# Import libraries\n",
    "import streamlit as st\n",
    "import pandas as pd\n",
    "import altair as alt\n",
    "import plotly.express as px"
   ]
  },
  {
   "cell_type": "code",
   "execution_count": 18,
   "id": "59ec9b91",
   "metadata": {},
   "outputs": [],
   "source": [
    "# Load data\n",
    "file_name = \"stats_evenements_2025-04-17_11-25-16.csv\"\n",
    "df = pd.read_csv(file_name, encoding=\"ISO-8859-1\", sep=\";\")"
   ]
  },
  {
   "cell_type": "code",
   "execution_count": 19,
   "id": "704ffda5",
   "metadata": {},
   "outputs": [],
   "source": [
    "# Convert Date Événement to datetime\n",
    "df[\"Date Événement\"] = pd.to_datetime(df[\"Date Événement\"])\n",
    "\n",
    "# Extract month and year from the 'Date Événement' column and create a new columns 'Month' and 'Year'\n",
    "df[\"month\"] = df[\"Date Événement\"].dt.month\n",
    "df[\"year\"] = df[\"Date Événement\"].dt.year\n",
    "df[\"date\"] = df[\"Date Événement\"].dt.date\n",
    "\n",
    "# Map month numbers to month names\n",
    "month_names = {\n",
    "    1: \"Janvier\",\n",
    "    2: \"Février\",\n",
    "    3: \"Mars\",\n",
    "    4: \"Avril\",\n",
    "    5: \"Mai\",\n",
    "    6: \"Juin\",\n",
    "    7: \"Juillet\",\n",
    "    8: \"Août\",\n",
    "    9: \"Septembre\",\n",
    "    10: \"Octobre\",\n",
    "    11: \"Novembre\",\n",
    "    12: \"Décembre\",\n",
    "}\n",
    "\n",
    "df[\"month_names\"] = df[\"month\"].map(month_names)"
   ]
  },
  {
   "cell_type": "code",
   "execution_count": 20,
   "id": "84810042",
   "metadata": {},
   "outputs": [
    {
     "name": "stderr",
     "output_type": "stream",
     "text": [
      "2025-04-24 09:56:52.701 Thread 'MainThread': missing ScriptRunContext! This warning can be ignored when running in bare mode.\n",
      "2025-04-24 09:56:52.702 Thread 'MainThread': missing ScriptRunContext! This warning can be ignored when running in bare mode.\n",
      "2025-04-24 09:56:52.702 Thread 'MainThread': missing ScriptRunContext! This warning can be ignored when running in bare mode.\n",
      "2025-04-24 09:56:52.703 Thread 'MainThread': missing ScriptRunContext! This warning can be ignored when running in bare mode.\n",
      "2025-04-24 09:56:52.703 Thread 'MainThread': missing ScriptRunContext! This warning can be ignored when running in bare mode.\n",
      "2025-04-24 09:56:52.703 Thread 'MainThread': missing ScriptRunContext! This warning can be ignored when running in bare mode.\n"
     ]
    }
   ],
   "source": [
    "# Select a year\n",
    "year_list = list(df.year.unique())\n",
    "\n",
    "selected_year = st.selectbox(\"Sélectionner une année\", year_list)\n",
    "df_selected_year = df[df.year == selected_year]"
   ]
  },
  {
   "cell_type": "code",
   "execution_count": 21,
   "id": "d198822a",
   "metadata": {},
   "outputs": [
    {
     "data": {
      "application/vnd.plotly.v1+json": {
       "config": {
        "plotlyServerURL": "https://plot.ly"
       },
       "data": [
        {
         "alignmentgroup": "True",
         "hovertemplate": "Opérateur=KEOLY<br>month=%{x}<br>Nombre d'annonces=%{y}<extra></extra>",
         "legendgroup": "KEOLY",
         "marker": {
          "color": "#000001",
          "pattern": {
           "shape": ""
          }
         },
         "name": "KEOLY",
         "offsetgroup": "KEOLY",
         "orientation": "v",
         "showlegend": true,
         "textposition": "auto",
         "type": "bar",
         "x": [
          1,
          2,
          4
         ],
         "xaxis": "x",
         "y": [
          28,
          1,
          5
         ],
         "yaxis": "y"
        },
        {
         "alignmentgroup": "True",
         "hovertemplate": "Opérateur=RATPLY<br>month=%{x}<br>Nombre d'annonces=%{y}<extra></extra>",
         "legendgroup": "RATPLY",
         "marker": {
          "color": "#000002",
          "pattern": {
           "shape": ""
          }
         },
         "name": "RATPLY",
         "offsetgroup": "RATPLY",
         "orientation": "v",
         "showlegend": true,
         "textposition": "auto",
         "type": "bar",
         "x": [
          1,
          2,
          3,
          4
         ],
         "xaxis": "x",
         "y": [
          23,
          5,
          12,
          10
         ],
         "yaxis": "y"
        },
        {
         "alignmentgroup": "True",
         "hovertemplate": "Opérateur=RU<br>month=%{x}<br>Nombre d'annonces=%{y}<extra></extra>",
         "legendgroup": "RU",
         "marker": {
          "color": "#000003",
          "pattern": {
           "shape": ""
          }
         },
         "name": "RU",
         "offsetgroup": "RU",
         "orientation": "v",
         "showlegend": true,
         "textposition": "auto",
         "type": "bar",
         "x": [
          1,
          2,
          3,
          4
         ],
         "xaxis": "x",
         "y": [
          24,
          5,
          7,
          3
         ],
         "yaxis": "y"
        }
       ],
       "layout": {
        "barmode": "group",
        "legend": {
         "title": {
          "text": "Opérateur"
         },
         "tracegroupgap": 0
        },
        "margin": {
         "t": 60
        },
        "template": {
         "data": {
          "candlestick": [
           {
            "decreasing": {
             "line": {
              "color": "#000033"
             }
            },
            "increasing": {
             "line": {
              "color": "#000032"
             }
            },
            "type": "candlestick"
           }
          ],
          "contour": [
           {
            "colorscale": [
             [
              0,
              "#000011"
             ],
             [
              0.1111111111111111,
              "#000012"
             ],
             [
              0.2222222222222222,
              "#000013"
             ],
             [
              0.3333333333333333,
              "#000014"
             ],
             [
              0.4444444444444444,
              "#000015"
             ],
             [
              0.5555555555555556,
              "#000016"
             ],
             [
              0.6666666666666666,
              "#000017"
             ],
             [
              0.7777777777777778,
              "#000018"
             ],
             [
              0.8888888888888888,
              "#000019"
             ],
             [
              1,
              "#000020"
             ]
            ],
            "type": "contour"
           }
          ],
          "contourcarpet": [
           {
            "colorscale": [
             [
              0,
              "#000011"
             ],
             [
              0.1111111111111111,
              "#000012"
             ],
             [
              0.2222222222222222,
              "#000013"
             ],
             [
              0.3333333333333333,
              "#000014"
             ],
             [
              0.4444444444444444,
              "#000015"
             ],
             [
              0.5555555555555556,
              "#000016"
             ],
             [
              0.6666666666666666,
              "#000017"
             ],
             [
              0.7777777777777778,
              "#000018"
             ],
             [
              0.8888888888888888,
              "#000019"
             ],
             [
              1,
              "#000020"
             ]
            ],
            "type": "contourcarpet"
           }
          ],
          "heatmap": [
           {
            "colorscale": [
             [
              0,
              "#000011"
             ],
             [
              0.1111111111111111,
              "#000012"
             ],
             [
              0.2222222222222222,
              "#000013"
             ],
             [
              0.3333333333333333,
              "#000014"
             ],
             [
              0.4444444444444444,
              "#000015"
             ],
             [
              0.5555555555555556,
              "#000016"
             ],
             [
              0.6666666666666666,
              "#000017"
             ],
             [
              0.7777777777777778,
              "#000018"
             ],
             [
              0.8888888888888888,
              "#000019"
             ],
             [
              1,
              "#000020"
             ]
            ],
            "type": "heatmap"
           }
          ],
          "histogram2d": [
           {
            "colorscale": [
             [
              0,
              "#000011"
             ],
             [
              0.1111111111111111,
              "#000012"
             ],
             [
              0.2222222222222222,
              "#000013"
             ],
             [
              0.3333333333333333,
              "#000014"
             ],
             [
              0.4444444444444444,
              "#000015"
             ],
             [
              0.5555555555555556,
              "#000016"
             ],
             [
              0.6666666666666666,
              "#000017"
             ],
             [
              0.7777777777777778,
              "#000018"
             ],
             [
              0.8888888888888888,
              "#000019"
             ],
             [
              1,
              "#000020"
             ]
            ],
            "type": "histogram2d"
           }
          ],
          "icicle": [
           {
            "textfont": {
             "color": "white"
            },
            "type": "icicle"
           }
          ],
          "sankey": [
           {
            "textfont": {
             "color": "#000036"
            },
            "type": "sankey"
           }
          ],
          "scatter": [
           {
            "marker": {
             "line": {
              "width": 0
             }
            },
            "type": "scatter"
           }
          ],
          "table": [
           {
            "cells": {
             "fill": {
              "color": "#000038"
             },
             "font": {
              "color": "#000037"
             },
             "line": {
              "color": "#000039"
             }
            },
            "header": {
             "fill": {
              "color": "#000040"
             },
             "font": {
              "color": "#000036"
             },
             "line": {
              "color": "#000039"
             }
            },
            "type": "table"
           }
          ],
          "waterfall": [
           {
            "connector": {
             "line": {
              "color": "#000036",
              "width": 2
             }
            },
            "decreasing": {
             "marker": {
              "color": "#000033"
             }
            },
            "increasing": {
             "marker": {
              "color": "#000032"
             }
            },
            "totals": {
             "marker": {
              "color": "#000034"
             }
            },
            "type": "waterfall"
           }
          ]
         },
         "layout": {
          "coloraxis": {
           "colorscale": [
            [
             0,
             "#000011"
            ],
            [
             0.1111111111111111,
             "#000012"
            ],
            [
             0.2222222222222222,
             "#000013"
            ],
            [
             0.3333333333333333,
             "#000014"
            ],
            [
             0.4444444444444444,
             "#000015"
            ],
            [
             0.5555555555555556,
             "#000016"
            ],
            [
             0.6666666666666666,
             "#000017"
            ],
            [
             0.7777777777777778,
             "#000018"
            ],
            [
             0.8888888888888888,
             "#000019"
            ],
            [
             1,
             "#000020"
            ]
           ]
          },
          "colorscale": {
           "diverging": [
            [
             0,
             "#000021"
            ],
            [
             0.1,
             "#000022"
            ],
            [
             0.2,
             "#000023"
            ],
            [
             0.3,
             "#000024"
            ],
            [
             0.4,
             "#000025"
            ],
            [
             0.5,
             "#000026"
            ],
            [
             0.6,
             "#000027"
            ],
            [
             0.7,
             "#000028"
            ],
            [
             0.8,
             "#000029"
            ],
            [
             0.9,
             "#000030"
            ],
            [
             1,
             "#000031"
            ]
           ],
           "sequential": [
            [
             0,
             "#000011"
            ],
            [
             0.1111111111111111,
             "#000012"
            ],
            [
             0.2222222222222222,
             "#000013"
            ],
            [
             0.3333333333333333,
             "#000014"
            ],
            [
             0.4444444444444444,
             "#000015"
            ],
            [
             0.5555555555555556,
             "#000016"
            ],
            [
             0.6666666666666666,
             "#000017"
            ],
            [
             0.7777777777777778,
             "#000018"
            ],
            [
             0.8888888888888888,
             "#000019"
            ],
            [
             1,
             "#000020"
            ]
           ],
           "sequentialminus": [
            [
             0,
             "#000011"
            ],
            [
             0.1111111111111111,
             "#000012"
            ],
            [
             0.2222222222222222,
             "#000013"
            ],
            [
             0.3333333333333333,
             "#000014"
            ],
            [
             0.4444444444444444,
             "#000015"
            ],
            [
             0.5555555555555556,
             "#000016"
            ],
            [
             0.6666666666666666,
             "#000017"
            ],
            [
             0.7777777777777778,
             "#000018"
            ],
            [
             0.8888888888888888,
             "#000019"
            ],
            [
             1,
             "#000020"
            ]
           ]
          },
          "colorway": [
           "#000001",
           "#000002",
           "#000003",
           "#000004",
           "#000005",
           "#000006",
           "#000007",
           "#000008",
           "#000009",
           "#000010"
          ]
         }
        },
        "xaxis": {
         "anchor": "y",
         "domain": [
          0,
          1
         ],
         "tickmode": "linear",
         "title": {
          "text": "Mois"
         }
        },
        "yaxis": {
         "anchor": "x",
         "domain": [
          0,
          1
         ],
         "title": {}
        }
       }
      }
     },
     "metadata": {},
     "output_type": "display_data"
    }
   ],
   "source": [
    "df_temp = df_selected_year.loc[\n",
    "    df_selected_year[\"Libellé Événement\"] == \"Publication offre d'emploi\"\n",
    "]\n",
    "\n",
    "grouped = (\n",
    "    df_temp.groupby([\"month\", \"month_names\", \"Code Opérateur\"])\n",
    "    .size()\n",
    "    .reset_index(name=\"count\")\n",
    ")\n",
    "\n",
    "fig = px.bar(\n",
    "    grouped,\n",
    "    x=\"month\",\n",
    "    y=\"count\",\n",
    "    color=\"Code Opérateur\",\n",
    "    barmode=\"group\",\n",
    "    labels={\n",
    "        \"month_names\": \"Mois\",\n",
    "        \"count\": \"Nombre d'annonces\",\n",
    "        \"Code Opérateur\": \"Opérateur\",\n",
    "    },\n",
    ")\n",
    "fig.update_layout(xaxis_title=\"Mois\", yaxis_title=None, xaxis=dict(tickmode=\"linear\"))\n",
    "\n",
    "fig.show()"
   ]
  },
  {
   "cell_type": "code",
   "execution_count": null,
   "id": "629be744",
   "metadata": {},
   "outputs": [
    {
     "name": "stdout",
     "output_type": "stream",
     "text": [
      "    Code Opérateur       duree_publication\n",
      "0           RATPLY 17 days 23:59:52.133572\n",
      "1               RU  2 days 00:00:00.849193\n",
      "2           RATPLY 25 days 23:59:38.534174\n",
      "3           RATPLY  0 days 10:00:04.047650\n",
      "4           RATPLY 27 days 23:59:42.527675\n",
      "..             ...                     ...\n",
      "111          KEOLY  3 days 22:57:28.819673\n",
      "112          KEOLY  3 days 22:57:29.357056\n",
      "113          KEOLY  0 days 13:59:52.868615\n",
      "114          KEOLY  0 days 13:59:52.980880\n",
      "115         RATPLY  1 days 00:00:07.099392\n",
      "\n",
      "[116 rows x 2 columns]\n",
      "  Code Opérateur          duree_publication\n",
      "0          KEOLY 15 days 00:29:58.227263038\n",
      "1         RATPLY 26 days 23:25:39.010685500\n",
      "2             RU 11 days 00:12:22.071441937\n",
      "  Code Opérateur  duree_publication\n",
      "0          KEOLY                 15\n",
      "1         RATPLY                 26\n",
      "2             RU                 11\n"
     ]
    },
    {
     "name": "stderr",
     "output_type": "stream",
     "text": [
      "C:\\Users\\VBO\\AppData\\Local\\Temp\\ipykernel_25744\\1840436963.py:3: SettingWithCopyWarning:\n",
      "\n",
      "\n",
      "A value is trying to be set on a copy of a slice from a DataFrame.\n",
      "Try using .loc[row_indexer,col_indexer] = value instead\n",
      "\n",
      "See the caveats in the documentation: https://pandas.pydata.org/pandas-docs/stable/user_guide/indexing.html#returning-a-view-versus-a-copy\n",
      "\n",
      "C:\\Users\\VBO\\AppData\\Local\\Temp\\ipykernel_25744\\1840436963.py:7: SettingWithCopyWarning:\n",
      "\n",
      "\n",
      "A value is trying to be set on a copy of a slice from a DataFrame.\n",
      "Try using .loc[row_indexer,col_indexer] = value instead\n",
      "\n",
      "See the caveats in the documentation: https://pandas.pydata.org/pandas-docs/stable/user_guide/indexing.html#returning-a-view-versus-a-copy\n",
      "\n"
     ]
    }
   ],
   "source": [
    "# Date de début de publication\n",
    "df_temp = df_selected_year.loc[df_selected_year[\"Libellé Événement\"] == \"Publication offre d'emploi\"]\n",
    "df_temp[\"debut_publication\"] = pd.to_datetime(df_temp[\"Date Événement\"])\n",
    "\n",
    "# Date de fin de publication\n",
    "df_temp2 = df_selected_year.loc[df_selected_year[\"Libellé Événement\"] == \"Dépublication offre d'emploi\"]\n",
    "df_temp2[\"fin_publication\"] = pd.to_datetime(df_temp2[\"Date Événement\"])\n",
    "\n",
    "# Ensure 'Code Opérateur' exists in both DataFrames before merging\n",
    "if \"Code Opérateur\" in df_temp.columns and \"Code Opérateur\" in df_temp2.columns:\n",
    "\t# Merge the two DataFrames on 'Id Offre' to align the publication and depublication dates\n",
    "\tmerged_df = pd.merge(\n",
    "\t\tdf_temp[[\"Code Opérateur\", \"Id Offre\", \"debut_publication\"]],\n",
    "\t\tdf_temp2[[\"Code Opérateur\", \"Id Offre\", \"fin_publication\"]],\n",
    "\t\ton=[\"Id Offre\", \"Code Opérateur\"],  # Merge on both 'Id Offre' and 'Code Opérateur'\n",
    "\t\thow=\"inner\"\n",
    "\t)\n",
    "else:\n",
    "\traise KeyError(\"The column 'Code Opérateur' is missing in one of the DataFrames.\")\n",
    "\n",
    "# Calculate the duration of publication\n",
    "merged_df[\"duree_publication\"] = merged_df[\"fin_publication\"] - merged_df[\"debut_publication\"]\n",
    "print(merged_df[[\"Code Opérateur\", \"duree_publication\"]])\n",
    "\n",
    "# calculate the average duration of publication for each operator\n",
    "avg_duration = merged_df.groupby(\"Code Opérateur\")[\"duree_publication\"].mean().reset_index()\n",
    "print(avg_duration)\n",
    "# avg_duration[\"duree_publication\"] = avg_duration[\"duree_publication\"].dt.days\n",
    "# avg_duration[\"duree_publication\"] = avg_duration[\"duree_publication\"].astype(int)\n"
   ]
  },
  {
   "cell_type": "code",
   "execution_count": 61,
   "id": "cc9da36b",
   "metadata": {},
   "outputs": [
    {
     "name": "stderr",
     "output_type": "stream",
     "text": [
      "[nltk_data] Downloading package stopwords to\n",
      "[nltk_data]     C:\\Users\\VBO\\AppData\\Roaming\\nltk_data...\n",
      "[nltk_data]   Package stopwords is already up-to-date!\n"
     ]
    },
    {
     "data": {
      "application/vnd.plotly.v1+json": {
       "config": {
        "plotlyServerURL": "https://plot.ly"
       },
       "data": [
        {
         "hovertemplate": "Cluster=3<br>PCA Component 1=%{x}<br>PCA Component 2=%{y}<extra></extra>",
         "legendgroup": "3",
         "marker": {
          "color": "#636EFA",
          "symbol": "circle"
         },
         "mode": "markers",
         "name": "3",
         "orientation": "v",
         "showlegend": true,
         "type": "scatter",
         "x": [
          -0.051007278046908425,
          -0.06842917088165135,
          -0.05100727804690856,
          -0.00336758274756941,
          -0.04299641721366624,
          -0.08730940194868264,
          -0.08730940194868285,
          -0.07992703444961384,
          -0.08130212096996861,
          -0.09094055906974828,
          -0.034396159130318744,
          -0.07467717900254735,
          -0.09094055906974828,
          -0.038655033875996836
         ],
         "xaxis": "x",
         "y": [
          0.24122774595934351,
          0.2521198539593896,
          0.24122774595934307,
          0.23944467502212635,
          0.19819667785373585,
          0.15955267810231194,
          0.159552678102312,
          0.3032758086256694,
          0.1481714376912422,
          0.354264424987316,
          0.17333491356606426,
          0.19144129974912594,
          0.354264424987316,
          0.2138469810613016
         ],
         "yaxis": "y"
        },
        {
         "hovertemplate": "Cluster=1<br>PCA Component 1=%{x}<br>PCA Component 2=%{y}<extra></extra>",
         "legendgroup": "1",
         "marker": {
          "color": "#EF553B",
          "symbol": "circle"
         },
         "mode": "markers",
         "name": "1",
         "orientation": "v",
         "showlegend": true,
         "type": "scatter",
         "x": [
          -0.061825850446764335,
          -0.4113646140095781,
          -0.054621446881222384,
          -0.1747544230123387,
          -0.3050847271142351,
          -0.2496241965379342,
          -0.09664108524935057,
          -0.18215164459971864,
          -0.08212457110383595,
          -0.133406195806475,
          -0.16918892868635024,
          -0.19312954126356668,
          -0.133406195806475,
          -0.22613572548810362,
          -0.23936567125075187,
          -0.23132738260598096,
          -0.37891344325279275,
          -0.057693893977277394,
          -0.06877265073563647
         ],
         "xaxis": "x",
         "y": [
          -0.02844660027038244,
          -0.43061980576728237,
          -0.021218986951877163,
          -0.09083900248422563,
          -0.30465583568127647,
          -0.19610108381455507,
          -0.04860531763494813,
          -0.1419359205431611,
          -0.002600373736639523,
          -0.19013257882175438,
          -0.14606828447092307,
          -0.1785828808495142,
          -0.19013257882175438,
          -0.18721942422626625,
          -0.2201542548158309,
          -0.23591069131559775,
          -0.37632559596489523,
          0.03255774619825061,
          -0.030925443185859783
         ],
         "yaxis": "y"
        },
        {
         "hovertemplate": "Cluster=0<br>PCA Component 1=%{x}<br>PCA Component 2=%{y}<extra></extra>",
         "legendgroup": "0",
         "marker": {
          "color": "#00CC96",
          "symbol": "circle"
         },
         "mode": "markers",
         "name": "0",
         "orientation": "v",
         "showlegend": true,
         "type": "scatter",
         "x": [
          -0.04158625132832658,
          0.22611893277669198,
          -0.03518357339187582,
          -0.007543130513636669,
          -0.007543130513636669,
          -0.17170752933950406,
          -0.06700373571945169,
          -0.007731565714176794
         ],
         "xaxis": "x",
         "y": [
          0.2315356687281364,
          -0.06152484396566486,
          0.1119481441275948,
          0.10654353853054674,
          0.10654353853054674,
          0.007507135459478649,
          0.12461839033591841,
          0.10919489962142993
         ],
         "yaxis": "y"
        },
        {
         "hovertemplate": "Cluster=9<br>PCA Component 1=%{x}<br>PCA Component 2=%{y}<extra></extra>",
         "legendgroup": "9",
         "marker": {
          "color": "#AB63FA",
          "symbol": "circle"
         },
         "mode": "markers",
         "name": "9",
         "orientation": "v",
         "showlegend": true,
         "type": "scatter",
         "x": [
          -0.20317632928275778,
          -0.381115801881898,
          -0.16758213488191945,
          -0.3727479421143786,
          -0.3505583534771312,
          -0.2790790104022444,
          -0.3505583534771312,
          -0.16758213488191945,
          -0.14059293244063636,
          -0.3727479421143786
         ],
         "xaxis": "x",
         "y": [
          -0.2388431366226838,
          -0.3602458489286761,
          0.09448316743220557,
          -0.38651900081454355,
          -0.26572763904820307,
          -0.2045877738301231,
          -0.26572763904820307,
          0.09448316743220557,
          -0.035195322036748314,
          -0.38651900081454355
         ],
         "yaxis": "y"
        },
        {
         "hovertemplate": "Cluster=5<br>PCA Component 1=%{x}<br>PCA Component 2=%{y}<extra></extra>",
         "legendgroup": "5",
         "marker": {
          "color": "#FFA15A",
          "symbol": "circle"
         },
         "mode": "markers",
         "name": "5",
         "orientation": "v",
         "showlegend": true,
         "type": "scatter",
         "x": [
          -0.1527147475190604,
          -0.22893667257433253,
          -0.16065318413161955,
          -0.20416811729259615
         ],
         "xaxis": "x",
         "y": [
          0.0010019357742992651,
          -0.21491516778579045,
          -0.016204146245905528,
          0.05822884743672244
         ],
         "yaxis": "y"
        },
        {
         "hovertemplate": "Cluster=2<br>PCA Component 1=%{x}<br>PCA Component 2=%{y}<extra></extra>",
         "legendgroup": "2",
         "marker": {
          "color": "#19D3F3",
          "symbol": "circle"
         },
         "mode": "markers",
         "name": "2",
         "orientation": "v",
         "showlegend": true,
         "type": "scatter",
         "x": [
          0.177263659792812,
          0.3144319252637133,
          -0.07273209917674156,
          -0.08618215608032756,
          -0.018204586568791706,
          0.14481061289363312,
          0.20879090755463736,
          -0.11280350142956214,
          -0.013528785517095743,
          0.22934051163603864,
          0.28503130040195646,
          0.22596385788668916,
          -0.013528785517095746,
          0.17527793894400498,
          -0.006268393119363059,
          0.0006024645315160137,
          -0.04566863218012618,
          -0.01768075203150616,
          0.2333907965309373,
          0.4178778933272487,
          -0.013528785517095734,
          0.3169828327755619,
          0.28747641303039406,
          0.5319184990573133,
          0.22170256867541743,
          -0.01732940520744753,
          0.2874764130303944,
          0.49891103028073025,
          0.49891103028073025,
          -0.017680752031506146,
          -0.01768075203150616,
          0.3169828327755619,
          0.28747641303039406,
          0.5319184990573133,
          0.2874764130303944,
          0.2333907965309373,
          0.22170256867541743,
          -0.01746539675297857,
          0.23173994761260042,
          0.52368348012998,
          0.38512691850894437,
          0.007374991344777079,
          -0.017316410826586442,
          -0.012266314508202168,
          -0.013528785517095717,
          -0.07062031372588823,
          -0.013528785517095741,
          -0.013528785517095738,
          -0.03677943174671338,
          0.3564360031920943,
          -0.017680752031506146
         ],
         "xaxis": "x",
         "y": [
          -0.030202333487524245,
          -0.10146334034755142,
          -0.052849102167993336,
          -0.05117056951120456,
          0.035152105896386496,
          0.03753096218743182,
          -0.05208645990543554,
          -0.07363829283730462,
          0.03628788784149899,
          -0.08867648579287508,
          -0.019751015660854923,
          -0.08501421845333379,
          0.036287887841499014,
          -0.04956358955570009,
          -0.027924237974972246,
          0.031228058336064634,
          -0.008591796350863053,
          0.05185646857319276,
          -0.05078789192933667,
          -0.15461673122601516,
          0.03628788784149901,
          -0.10097614968363539,
          -0.08606027906526514,
          -0.20215967928582754,
          -0.14202019914608338,
          0.042875627399587966,
          -0.08606027906526582,
          -0.14955378268616235,
          -0.14955378268616235,
          0.05185646857319278,
          0.05185646857319276,
          -0.10097614968363539,
          -0.08606027906526514,
          -0.20215967928582754,
          -0.08606027906526582,
          -0.05078789192933667,
          -0.14202019914608338,
          0.04213325817781968,
          -0.06490276967253117,
          -0.19791141543179327,
          -0.07327442193426936,
          0.04472001995481902,
          0.05188362202966562,
          0.04607500672501829,
          0.03628788784149901,
          -0.0016507573642195307,
          0.03628788784149899,
          0.03628788784149899,
          0.005130721376894628,
          -0.12019379981989493,
          0.05185646857319278
         ],
         "yaxis": "y"
        },
        {
         "hovertemplate": "Cluster=6<br>PCA Component 1=%{x}<br>PCA Component 2=%{y}<extra></extra>",
         "legendgroup": "6",
         "marker": {
          "color": "#FF6692",
          "symbol": "circle"
         },
         "mode": "markers",
         "name": "6",
         "orientation": "v",
         "showlegend": true,
         "type": "scatter",
         "x": [
          -0.0037159546507005196,
          -0.01694590673865785,
          -0.015539708559712453,
          -0.015152006186415466,
          -0.016831691126155325,
          0.01686972043453445,
          -0.003715954650700519
         ],
         "xaxis": "x",
         "y": [
          0.028224986244839843,
          0.061900002924073376,
          0.05962422156643087,
          0.053340558623392945,
          0.06033050156828344,
          0.0914166786057114,
          0.028224986244839816
         ],
         "yaxis": "y"
        },
        {
         "hovertemplate": "Cluster=4<br>PCA Component 1=%{x}<br>PCA Component 2=%{y}<extra></extra>",
         "legendgroup": "4",
         "marker": {
          "color": "#B6E880",
          "symbol": "circle"
         },
         "mode": "markers",
         "name": "4",
         "orientation": "v",
         "showlegend": true,
         "type": "scatter",
         "x": [
          0.26614975266638474,
          0.21836186654605527,
          0.2898211846277517
         ],
         "xaxis": "x",
         "y": [
          -0.07706369230957197,
          -0.05721087546438665,
          -0.08540828702335126
         ],
         "yaxis": "y"
        },
        {
         "hovertemplate": "Cluster=7<br>PCA Component 1=%{x}<br>PCA Component 2=%{y}<extra></extra>",
         "legendgroup": "7",
         "marker": {
          "color": "#FF97FF",
          "symbol": "circle"
         },
         "mode": "markers",
         "name": "7",
         "orientation": "v",
         "showlegend": true,
         "type": "scatter",
         "x": [
          -0.0652035704144087,
          -0.07311051686267,
          -0.0652035704144087,
          -0.07311051686267
         ],
         "xaxis": "x",
         "y": [
          0.47597825551114814,
          0.5271839065038788,
          0.47597825551114814,
          0.5271839065038788
         ],
         "yaxis": "y"
        },
        {
         "hovertemplate": "Cluster=8<br>PCA Component 1=%{x}<br>PCA Component 2=%{y}<extra></extra>",
         "legendgroup": "8",
         "marker": {
          "color": "#FECB52",
          "symbol": "circle"
         },
         "mode": "markers",
         "name": "8",
         "orientation": "v",
         "showlegend": true,
         "type": "scatter",
         "x": [
          -0.05555400911563863,
          -0.0924326357385429,
          -0.0924326357385429
         ],
         "xaxis": "x",
         "y": [
          0.15315079574289212,
          0.47594886415136173,
          0.47594886415136173
         ],
         "yaxis": "y"
        }
       ],
       "layout": {
        "legend": {
         "title": {
          "text": "Cluster"
         },
         "tracegroupgap": 0
        },
        "template": {
         "data": {
          "candlestick": [
           {
            "decreasing": {
             "line": {
              "color": "#000033"
             }
            },
            "increasing": {
             "line": {
              "color": "#000032"
             }
            },
            "type": "candlestick"
           }
          ],
          "contour": [
           {
            "colorscale": [
             [
              0,
              "#000011"
             ],
             [
              0.1111111111111111,
              "#000012"
             ],
             [
              0.2222222222222222,
              "#000013"
             ],
             [
              0.3333333333333333,
              "#000014"
             ],
             [
              0.4444444444444444,
              "#000015"
             ],
             [
              0.5555555555555556,
              "#000016"
             ],
             [
              0.6666666666666666,
              "#000017"
             ],
             [
              0.7777777777777778,
              "#000018"
             ],
             [
              0.8888888888888888,
              "#000019"
             ],
             [
              1,
              "#000020"
             ]
            ],
            "type": "contour"
           }
          ],
          "contourcarpet": [
           {
            "colorscale": [
             [
              0,
              "#000011"
             ],
             [
              0.1111111111111111,
              "#000012"
             ],
             [
              0.2222222222222222,
              "#000013"
             ],
             [
              0.3333333333333333,
              "#000014"
             ],
             [
              0.4444444444444444,
              "#000015"
             ],
             [
              0.5555555555555556,
              "#000016"
             ],
             [
              0.6666666666666666,
              "#000017"
             ],
             [
              0.7777777777777778,
              "#000018"
             ],
             [
              0.8888888888888888,
              "#000019"
             ],
             [
              1,
              "#000020"
             ]
            ],
            "type": "contourcarpet"
           }
          ],
          "heatmap": [
           {
            "colorscale": [
             [
              0,
              "#000011"
             ],
             [
              0.1111111111111111,
              "#000012"
             ],
             [
              0.2222222222222222,
              "#000013"
             ],
             [
              0.3333333333333333,
              "#000014"
             ],
             [
              0.4444444444444444,
              "#000015"
             ],
             [
              0.5555555555555556,
              "#000016"
             ],
             [
              0.6666666666666666,
              "#000017"
             ],
             [
              0.7777777777777778,
              "#000018"
             ],
             [
              0.8888888888888888,
              "#000019"
             ],
             [
              1,
              "#000020"
             ]
            ],
            "type": "heatmap"
           }
          ],
          "histogram2d": [
           {
            "colorscale": [
             [
              0,
              "#000011"
             ],
             [
              0.1111111111111111,
              "#000012"
             ],
             [
              0.2222222222222222,
              "#000013"
             ],
             [
              0.3333333333333333,
              "#000014"
             ],
             [
              0.4444444444444444,
              "#000015"
             ],
             [
              0.5555555555555556,
              "#000016"
             ],
             [
              0.6666666666666666,
              "#000017"
             ],
             [
              0.7777777777777778,
              "#000018"
             ],
             [
              0.8888888888888888,
              "#000019"
             ],
             [
              1,
              "#000020"
             ]
            ],
            "type": "histogram2d"
           }
          ],
          "icicle": [
           {
            "textfont": {
             "color": "white"
            },
            "type": "icicle"
           }
          ],
          "sankey": [
           {
            "textfont": {
             "color": "#000036"
            },
            "type": "sankey"
           }
          ],
          "scatter": [
           {
            "marker": {
             "line": {
              "width": 0
             }
            },
            "type": "scatter"
           }
          ],
          "table": [
           {
            "cells": {
             "fill": {
              "color": "#000038"
             },
             "font": {
              "color": "#000037"
             },
             "line": {
              "color": "#000039"
             }
            },
            "header": {
             "fill": {
              "color": "#000040"
             },
             "font": {
              "color": "#000036"
             },
             "line": {
              "color": "#000039"
             }
            },
            "type": "table"
           }
          ],
          "waterfall": [
           {
            "connector": {
             "line": {
              "color": "#000036",
              "width": 2
             }
            },
            "decreasing": {
             "marker": {
              "color": "#000033"
             }
            },
            "increasing": {
             "marker": {
              "color": "#000032"
             }
            },
            "totals": {
             "marker": {
              "color": "#000034"
             }
            },
            "type": "waterfall"
           }
          ]
         },
         "layout": {
          "coloraxis": {
           "colorscale": [
            [
             0,
             "#000011"
            ],
            [
             0.1111111111111111,
             "#000012"
            ],
            [
             0.2222222222222222,
             "#000013"
            ],
            [
             0.3333333333333333,
             "#000014"
            ],
            [
             0.4444444444444444,
             "#000015"
            ],
            [
             0.5555555555555556,
             "#000016"
            ],
            [
             0.6666666666666666,
             "#000017"
            ],
            [
             0.7777777777777778,
             "#000018"
            ],
            [
             0.8888888888888888,
             "#000019"
            ],
            [
             1,
             "#000020"
            ]
           ]
          },
          "colorscale": {
           "diverging": [
            [
             0,
             "#000021"
            ],
            [
             0.1,
             "#000022"
            ],
            [
             0.2,
             "#000023"
            ],
            [
             0.3,
             "#000024"
            ],
            [
             0.4,
             "#000025"
            ],
            [
             0.5,
             "#000026"
            ],
            [
             0.6,
             "#000027"
            ],
            [
             0.7,
             "#000028"
            ],
            [
             0.8,
             "#000029"
            ],
            [
             0.9,
             "#000030"
            ],
            [
             1,
             "#000031"
            ]
           ],
           "sequential": [
            [
             0,
             "#000011"
            ],
            [
             0.1111111111111111,
             "#000012"
            ],
            [
             0.2222222222222222,
             "#000013"
            ],
            [
             0.3333333333333333,
             "#000014"
            ],
            [
             0.4444444444444444,
             "#000015"
            ],
            [
             0.5555555555555556,
             "#000016"
            ],
            [
             0.6666666666666666,
             "#000017"
            ],
            [
             0.7777777777777778,
             "#000018"
            ],
            [
             0.8888888888888888,
             "#000019"
            ],
            [
             1,
             "#000020"
            ]
           ],
           "sequentialminus": [
            [
             0,
             "#000011"
            ],
            [
             0.1111111111111111,
             "#000012"
            ],
            [
             0.2222222222222222,
             "#000013"
            ],
            [
             0.3333333333333333,
             "#000014"
            ],
            [
             0.4444444444444444,
             "#000015"
            ],
            [
             0.5555555555555556,
             "#000016"
            ],
            [
             0.6666666666666666,
             "#000017"
            ],
            [
             0.7777777777777778,
             "#000018"
            ],
            [
             0.8888888888888888,
             "#000019"
            ],
            [
             1,
             "#000020"
            ]
           ]
          },
          "colorway": [
           "#000001",
           "#000002",
           "#000003",
           "#000004",
           "#000005",
           "#000006",
           "#000007",
           "#000008",
           "#000009",
           "#000010"
          ]
         }
        },
        "title": {
         "text": "Visualisation des clusters de titres d'emploi"
        },
        "xaxis": {
         "anchor": "y",
         "domain": [
          0,
          1
         ],
         "title": {
          "text": "PCA Component 1"
         }
        },
        "yaxis": {
         "anchor": "x",
         "domain": [
          0,
          1
         ],
         "title": {
          "text": "PCA Component 2"
         }
        }
       }
      }
     },
     "metadata": {},
     "output_type": "display_data"
    },
    {
     "name": "stdout",
     "output_type": "stream",
     "text": [
      "    Code Opérateur  Id Offre             Date Événement  \\\n",
      "81          RATPLY       305 2025-04-15 18:05:42.480849   \n",
      "83          RATPLY       304 2025-04-15 18:05:42.349793   \n",
      "134         RATPLY       303 2025-04-14 18:05:31.734589   \n",
      "136         RATPLY       302 2025-04-14 18:05:31.634199   \n",
      "138          KEOLY       301 2025-04-14 18:00:30.210751   \n",
      "\n",
      "                                           Titre Offre  Cluster  \n",
      "81                                   responsable achat        3  \n",
      "83   technicien contrôle intervention dci ml et sia...        1  \n",
      "134      responsable formation et securite ferroviaire        0  \n",
      "136          chef d?equipe maintenance metro / tramway        1  \n",
      "138                              responsable de lignes        3  \n"
     ]
    }
   ],
   "source": [
    "import pandas as pd\n",
    "from sklearn.feature_extraction.text import TfidfVectorizer\n",
    "from sklearn.cluster import KMeans\n",
    "from sklearn.decomposition import PCA\n",
    "import matplotlib.pyplot as plt\n",
    "from sklearn.feature_extraction.text import TfidfVectorizer\n",
    "from nltk.corpus import stopwords\n",
    "import nltk\n",
    "\n",
    "#Typologie des offres\n",
    "# Sélectionner uniquement les publications d'offre\n",
    "df_temp = df_selected_year.loc[\n",
    "    df_selected_year[\"Libellé Événement\"] == \"Publication offre d'emploi\"\n",
    "]\n",
    "\n",
    "# Sélectionner les colonnes d'intérêt\n",
    "df_temp = df_temp[[\"Code Opérateur\", \"Id Offre\", \"Date Événement\", \"Titre Offre\"]]\n",
    "\n",
    "# Tout passer en minuscule\n",
    "df_temp[\"Titre Offre\"] = df_temp[\"Titre Offre\"].str.lower()\n",
    "\n",
    "# Supprimer les mentions H/F, F/H, H/F et (H/F) dans le titre de l'offre\n",
    "df_temp[\"Titre Offre\"] = df_temp[\"Titre Offre\"].str.replace(r\"\\s*\\(H/F\\)|\\s*H/F|\\s*\\(F/H\\)|\\s*F/H\", \"\", regex=True, case=False)\n",
    "\n",
    "# Supprimer les mentions .e dans le titre de l'offre\n",
    "df_temp[\"Titre Offre\"] = df_temp[\"Titre Offre\"].str.replace(r\"\\s*\\.e\", \"\", regex=True, case=False)\n",
    "\n",
    "# Remplacer é par e\n",
    "df_temp[\"Titre Offre\"] = df_temp[\"Titre Offre\"].str.replace(r\"\\s*é\", \"e\", regex=True, case=False)\n",
    "\n",
    "\n",
    "nltk.download('stopwords')\n",
    "french_stop_words = stopwords.words('french')\n",
    "\n",
    "vectorizer = TfidfVectorizer(stop_words=french_stop_words)\n",
    "X = vectorizer.fit_transform(df_temp['Titre Offre'])\n",
    "\n",
    "# Application de K-means pour le clustering\n",
    "num_clusters = 10  # Vous pouvez ajuster le nombre de clusters\n",
    "kmeans = KMeans(n_clusters=num_clusters, random_state=42)\n",
    "df_temp['Cluster'] = kmeans.fit_predict(X)\n",
    "\n",
    "# Réduction de dimensionnalité pour visualisation\n",
    "pca = PCA(n_components=2)\n",
    "X_pca = pca.fit_transform(X.toarray())\n",
    "\n",
    "# Visualisation des clusters avec Plotly\n",
    "import plotly.express as px\n",
    "\n",
    "fig = px.scatter(\n",
    "    x=X_pca[:, 0],\n",
    "    y=X_pca[:, 1],\n",
    "    color=df_temp['Cluster'].astype(str),\n",
    "    labels={'x': 'PCA Component 1', 'y': 'PCA Component 2', 'color': 'Cluster'},\n",
    "    title=\"Visualisation des clusters de titres d'emploi\",\n",
    "    color_discrete_sequence=px.colors.qualitative.Plotly  # Use a predefined color set\n",
    ")\n",
    "fig.show()\n",
    "\n",
    "# Affichage des premières lignes avec les clusters\n",
    "print(df_temp.head())\n",
    "\n",
    "# Sauvegarde du fichier mis à jour\n",
    "df_temp.to_excel('bricolage2_clustered.xlsx', index=False)\n"
   ]
  },
  {
   "cell_type": "code",
   "execution_count": 70,
   "id": "67613b74",
   "metadata": {},
   "outputs": [
    {
     "name": "stderr",
     "output_type": "stream",
     "text": [
      "C:\\Users\\VBO\\AppData\\Local\\Temp\\ipykernel_25744\\447688424.py:12: SettingWithCopyWarning:\n",
      "\n",
      "\n",
      "A value is trying to be set on a copy of a slice from a DataFrame.\n",
      "Try using .loc[row_indexer,col_indexer] = value instead\n",
      "\n",
      "See the caveats in the documentation: https://pandas.pydata.org/pandas-docs/stable/user_guide/indexing.html#returning-a-view-versus-a-copy\n",
      "\n"
     ]
    },
    {
     "data": {
      "application/vnd.plotly.v1+json": {
       "config": {
        "plotlyServerURL": "https://plot.ly"
       },
       "data": [
        {
         "alignmentgroup": "True",
         "hovertemplate": "Opérateur=KEOLY<br>Courriel=%{x}<br>Nombre de candidatures=%{y}<extra></extra>",
         "legendgroup": "KEOLY",
         "marker": {
          "color": "#000001",
          "pattern": {
           "shape": ""
          }
         },
         "name": "KEOLY",
         "offsetgroup": "KEOLY",
         "orientation": "v",
         "showlegend": true,
         "textposition": "auto",
         "type": "bar",
         "x": [
          "admin@admin",
          "anonyme@keolis-lyon.fr",
          "anonyme@mobilites-lyonnaises.fr",
          "anonyme@ratpdev.com"
         ],
         "xaxis": "x",
         "y": [
          6,
          6,
          9,
          17
         ],
         "yaxis": "y"
        },
        {
         "alignmentgroup": "True",
         "hovertemplate": "Opérateur=RATPLY<br>Courriel=%{x}<br>Nombre de candidatures=%{y}<extra></extra>",
         "legendgroup": "RATPLY",
         "marker": {
          "color": "#000002",
          "pattern": {
           "shape": ""
          }
         },
         "name": "RATPLY",
         "offsetgroup": "RATPLY",
         "orientation": "v",
         "showlegend": true,
         "textposition": "auto",
         "type": "bar",
         "x": [
          "admin@admin",
          "anonyme@keolis-lyon.fr",
          "anonyme@mobilites-lyonnaises.fr",
          "anonyme@ratpdev.com",
          "anonyme@sytral.fr"
         ],
         "xaxis": "x",
         "y": [
          25,
          13,
          19,
          93,
          1
         ],
         "yaxis": "y"
        },
        {
         "alignmentgroup": "True",
         "hovertemplate": "Opérateur=RU<br>Courriel=%{x}<br>Nombre de candidatures=%{y}<extra></extra>",
         "legendgroup": "RU",
         "marker": {
          "color": "#000003",
          "pattern": {
           "shape": ""
          }
         },
         "name": "RU",
         "offsetgroup": "RU",
         "orientation": "v",
         "showlegend": true,
         "textposition": "auto",
         "type": "bar",
         "x": [
          "admin@admin",
          "anonyme@keolis-lyon.fr",
          "anonyme@mobilites-lyonnaises.fr",
          "anonyme@ratpdev.com"
         ],
         "xaxis": "x",
         "y": [
          6,
          21,
          29,
          22
         ],
         "yaxis": "y"
        }
       ],
       "layout": {
        "barmode": "group",
        "legend": {
         "title": {
          "text": "Opérateur"
         },
         "tracegroupgap": 0
        },
        "margin": {
         "t": 60
        },
        "template": {
         "data": {
          "candlestick": [
           {
            "decreasing": {
             "line": {
              "color": "#000033"
             }
            },
            "increasing": {
             "line": {
              "color": "#000032"
             }
            },
            "type": "candlestick"
           }
          ],
          "contour": [
           {
            "colorscale": [
             [
              0,
              "#000011"
             ],
             [
              0.1111111111111111,
              "#000012"
             ],
             [
              0.2222222222222222,
              "#000013"
             ],
             [
              0.3333333333333333,
              "#000014"
             ],
             [
              0.4444444444444444,
              "#000015"
             ],
             [
              0.5555555555555556,
              "#000016"
             ],
             [
              0.6666666666666666,
              "#000017"
             ],
             [
              0.7777777777777778,
              "#000018"
             ],
             [
              0.8888888888888888,
              "#000019"
             ],
             [
              1,
              "#000020"
             ]
            ],
            "type": "contour"
           }
          ],
          "contourcarpet": [
           {
            "colorscale": [
             [
              0,
              "#000011"
             ],
             [
              0.1111111111111111,
              "#000012"
             ],
             [
              0.2222222222222222,
              "#000013"
             ],
             [
              0.3333333333333333,
              "#000014"
             ],
             [
              0.4444444444444444,
              "#000015"
             ],
             [
              0.5555555555555556,
              "#000016"
             ],
             [
              0.6666666666666666,
              "#000017"
             ],
             [
              0.7777777777777778,
              "#000018"
             ],
             [
              0.8888888888888888,
              "#000019"
             ],
             [
              1,
              "#000020"
             ]
            ],
            "type": "contourcarpet"
           }
          ],
          "heatmap": [
           {
            "colorscale": [
             [
              0,
              "#000011"
             ],
             [
              0.1111111111111111,
              "#000012"
             ],
             [
              0.2222222222222222,
              "#000013"
             ],
             [
              0.3333333333333333,
              "#000014"
             ],
             [
              0.4444444444444444,
              "#000015"
             ],
             [
              0.5555555555555556,
              "#000016"
             ],
             [
              0.6666666666666666,
              "#000017"
             ],
             [
              0.7777777777777778,
              "#000018"
             ],
             [
              0.8888888888888888,
              "#000019"
             ],
             [
              1,
              "#000020"
             ]
            ],
            "type": "heatmap"
           }
          ],
          "histogram2d": [
           {
            "colorscale": [
             [
              0,
              "#000011"
             ],
             [
              0.1111111111111111,
              "#000012"
             ],
             [
              0.2222222222222222,
              "#000013"
             ],
             [
              0.3333333333333333,
              "#000014"
             ],
             [
              0.4444444444444444,
              "#000015"
             ],
             [
              0.5555555555555556,
              "#000016"
             ],
             [
              0.6666666666666666,
              "#000017"
             ],
             [
              0.7777777777777778,
              "#000018"
             ],
             [
              0.8888888888888888,
              "#000019"
             ],
             [
              1,
              "#000020"
             ]
            ],
            "type": "histogram2d"
           }
          ],
          "icicle": [
           {
            "textfont": {
             "color": "white"
            },
            "type": "icicle"
           }
          ],
          "sankey": [
           {
            "textfont": {
             "color": "#000036"
            },
            "type": "sankey"
           }
          ],
          "scatter": [
           {
            "marker": {
             "line": {
              "width": 0
             }
            },
            "type": "scatter"
           }
          ],
          "table": [
           {
            "cells": {
             "fill": {
              "color": "#000038"
             },
             "font": {
              "color": "#000037"
             },
             "line": {
              "color": "#000039"
             }
            },
            "header": {
             "fill": {
              "color": "#000040"
             },
             "font": {
              "color": "#000036"
             },
             "line": {
              "color": "#000039"
             }
            },
            "type": "table"
           }
          ],
          "waterfall": [
           {
            "connector": {
             "line": {
              "color": "#000036",
              "width": 2
             }
            },
            "decreasing": {
             "marker": {
              "color": "#000033"
             }
            },
            "increasing": {
             "marker": {
              "color": "#000032"
             }
            },
            "totals": {
             "marker": {
              "color": "#000034"
             }
            },
            "type": "waterfall"
           }
          ]
         },
         "layout": {
          "coloraxis": {
           "colorscale": [
            [
             0,
             "#000011"
            ],
            [
             0.1111111111111111,
             "#000012"
            ],
            [
             0.2222222222222222,
             "#000013"
            ],
            [
             0.3333333333333333,
             "#000014"
            ],
            [
             0.4444444444444444,
             "#000015"
            ],
            [
             0.5555555555555556,
             "#000016"
            ],
            [
             0.6666666666666666,
             "#000017"
            ],
            [
             0.7777777777777778,
             "#000018"
            ],
            [
             0.8888888888888888,
             "#000019"
            ],
            [
             1,
             "#000020"
            ]
           ]
          },
          "colorscale": {
           "diverging": [
            [
             0,
             "#000021"
            ],
            [
             0.1,
             "#000022"
            ],
            [
             0.2,
             "#000023"
            ],
            [
             0.3,
             "#000024"
            ],
            [
             0.4,
             "#000025"
            ],
            [
             0.5,
             "#000026"
            ],
            [
             0.6,
             "#000027"
            ],
            [
             0.7,
             "#000028"
            ],
            [
             0.8,
             "#000029"
            ],
            [
             0.9,
             "#000030"
            ],
            [
             1,
             "#000031"
            ]
           ],
           "sequential": [
            [
             0,
             "#000011"
            ],
            [
             0.1111111111111111,
             "#000012"
            ],
            [
             0.2222222222222222,
             "#000013"
            ],
            [
             0.3333333333333333,
             "#000014"
            ],
            [
             0.4444444444444444,
             "#000015"
            ],
            [
             0.5555555555555556,
             "#000016"
            ],
            [
             0.6666666666666666,
             "#000017"
            ],
            [
             0.7777777777777778,
             "#000018"
            ],
            [
             0.8888888888888888,
             "#000019"
            ],
            [
             1,
             "#000020"
            ]
           ],
           "sequentialminus": [
            [
             0,
             "#000011"
            ],
            [
             0.1111111111111111,
             "#000012"
            ],
            [
             0.2222222222222222,
             "#000013"
            ],
            [
             0.3333333333333333,
             "#000014"
            ],
            [
             0.4444444444444444,
             "#000015"
            ],
            [
             0.5555555555555556,
             "#000016"
            ],
            [
             0.6666666666666666,
             "#000017"
            ],
            [
             0.7777777777777778,
             "#000018"
            ],
            [
             0.8888888888888888,
             "#000019"
            ],
            [
             1,
             "#000020"
            ]
           ]
          },
          "colorway": [
           "#000001",
           "#000002",
           "#000003",
           "#000004",
           "#000005",
           "#000006",
           "#000007",
           "#000008",
           "#000009",
           "#000010"
          ]
         }
        },
        "title": {
         "text": "Répartition des candidatures par courriel et opérateur"
        },
        "xaxis": {
         "anchor": "y",
         "domain": [
          0,
          1
         ],
         "tickmode": "linear",
         "title": {
          "text": "Courriel"
         }
        },
        "yaxis": {
         "anchor": "x",
         "domain": [
          0,
          1
         ],
         "title": {
          "text": "Nombre de candidatures"
         }
        }
       }
      }
     },
     "metadata": {},
     "output_type": "display_data"
    }
   ],
   "source": [
    "# Mapping des Tenant ID vers les courriels\n",
    "tenant_courriel_mapping = {\n",
    "    'b87cc266-09c4-40cc-8dfa-c92e08bf9cb4': 'anonyme@ratpdev.com',\n",
    "    '7124e463-2734-41bf-bddb-3e475374f94c': 'anonyme@keolis-lyon.fr',\n",
    "    '6b23e274-b621-4690-a6c9-bf8828efd33e': 'anonyme@mobilites-lyonnaises.fr',\n",
    "    '846ece69-a6d3-4892-83ca-a966df6f640e': 'anonyme@sytral.fr',\n",
    "    'fa41821e-c12a-4f5a-9a6c-8a85b6d803bc': 'admin@admin'\n",
    "}\n",
    "\n",
    "# Créer une nouvelle colonne 'Courriel' dans le DataFrame df_temp\n",
    "df_temp = df_selected_year.loc[df_selected_year[\"Libellé Événement\"] == \"Candidature\"]\n",
    "df_temp['courriel'] = df_temp['Tenant ID'].map(tenant_courriel_mapping)\n",
    "\n",
    "# Count grouped by \"Code Opérateur\" and \"courriel\"\n",
    "grouped = df_temp.groupby([\"Code Opérateur\", \"courriel\"]).size().reset_index(name=\"count\")\n",
    "\n",
    "# Create a bar plot\n",
    "fig = px.bar(\n",
    "    grouped,\n",
    "    x=\"courriel\",\n",
    "    y=\"count\",\n",
    "    color=\"Code Opérateur\",\n",
    "    barmode=\"group\",\n",
    "    labels={\n",
    "        \"courriel\": \"Courriel\",\n",
    "        \"count\": \"Nombre de candidatures\",\n",
    "        \"Code Opérateur\": \"Opérateur\",\n",
    "    },\n",
    ")\n",
    "\n",
    "fig.update_layout(\n",
    "    xaxis_title=\"Courriel\",\n",
    "    yaxis_title=\"Nombre de candidatures\",\n",
    "    xaxis=dict(tickmode=\"linear\"),\n",
    "    title=\"Répartition des candidatures par courriel et opérateur\"\n",
    ")\n",
    "\n",
    "fig.show()\n"
   ]
  }
 ],
 "metadata": {
  "kernelspec": {
   "display_name": "Python 3",
   "language": "python",
   "name": "python3"
  },
  "language_info": {
   "codemirror_mode": {
    "name": "ipython",
    "version": 3
   },
   "file_extension": ".py",
   "mimetype": "text/x-python",
   "name": "python",
   "nbconvert_exporter": "python",
   "pygments_lexer": "ipython3",
   "version": "3.12.9"
  }
 },
 "nbformat": 4,
 "nbformat_minor": 5
}
